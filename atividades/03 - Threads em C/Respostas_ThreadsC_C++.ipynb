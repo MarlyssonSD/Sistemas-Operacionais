{
  "nbformat": 4,
  "nbformat_minor": 0,
  "metadata": {
    "colab": {
      "provenance": [],
      "toc_visible": true
    },
    "kernelspec": {
      "name": "python3",
      "display_name": "Python 3"
    },
    "language_info": {
      "name": "python"
    }
  },
  "cells": [
    {
      "cell_type": "markdown",
      "source": [
        "# Trabalhando com Threads no C/C++"
      ],
      "metadata": {
        "id": "pDBPyNkcVYZa"
      }
    },
    {
      "cell_type": "markdown",
      "source": [
        "##1.Instruções Gerais.\n",
        "1. As respostas das questões dos tutoriais devem ser colocadas no github do grupo, na pasta atividades\\atividadesthread.\n",
        "\n",
        "2. O prazo para entrega desta atividade é até 11/11.\n",
        "\n",
        "3. Em caso de atraso, o grupo sofrerá penalização na nota final de acordo com a quantidade de dias adicionais necessários para postagem da atividade em seu repositório."
      ],
      "metadata": {
        "id": "1sQ-YqBC2v8y"
      }
    },
    {
      "cell_type": "markdown",
      "source": [
        "## 2.PosixThreads\n",
        "\n",
        "- Biblioteca de Threads no espaço do usuário.\n",
        "\n",
        "- Oferece funções e tipos de dados para a criação, sincronização e comunicação entre threads.\n",
        "- Criação de Threads:\n",
        "  - O processo de criação de uma nova thread é realizado pela função pthread_create.\n",
        "  \n",
        "  ```\n",
        "  int pthread_create(pthread_t *thread, const pthread_attr_t *attr,\n",
        "                          void *(*start_routine) (void *), void *arg);\n",
        "  ```\n",
        "  Ele utiliza quatro parâmetros:\n",
        "\n",
        "\n",
        "1. Ponteiro para thread\n",
        "2. Um struct que define características da thread (atributos da thread)\n",
        "3. Ponteiro para função que a thread vai executar\n",
        "4. Parâmetros que serão usados por esta função.\n",
        "\n",
        "A seguir, um exemplo de código que demonstra o uso de ```pthread_create```. A diretiva ```%%writefile``` é usada para criar o arquivo ```criandothreads.c```. Execute para gerar o arquivo ```criandothreads.c```.\n",
        "\n",
        "  \n"
      ],
      "metadata": {
        "id": "qeR0bahRWg9-"
      }
    },
    {
      "cell_type": "code",
      "execution_count": 1,
      "metadata": {
        "id": "xmd7N04HUuV3",
        "outputId": "26e1b1e3-9534-4632-afc9-1ebac5471b9f",
        "colab": {
          "base_uri": "https://localhost:8080/"
        }
      },
      "outputs": [
        {
          "output_type": "stream",
          "name": "stdout",
          "text": [
            "Writing criandothreads.c\n"
          ]
        }
      ],
      "source": [
        "\n",
        "%%writefile criandothreads.c\n",
        "#include <pthread.h>\n",
        "#include <stdio.h>\n",
        "#include <stdlib.h>\n",
        "#include <stdbool.h>\n",
        "\n",
        "\n",
        "int f; // Dado compartilhado entre as threads\n",
        "bool k;\n",
        "\n",
        "\n",
        "void *funcaof(void *param); //Assinatura da função que será executada pela thread.\n",
        "void *funcaok(void *param);\n",
        "bool verificaPrimo(int a);\n",
        "\n",
        "\n",
        "int main(int argc, char *argv[]){\n",
        "    if (argc != 2 && atoi(argv[1]) < 0) {\n",
        "      fprintf(stderr,\"sintaxe: ./criandothreads <valor inteiro maior que 0>\\n\");\n",
        "      return -1;}\n",
        "\n",
        "\n",
        "    pthread_t thread1; //cria variável do tipo thread\n",
        "    pthread_attr_t attr; // cria variável do tipo atributo de thread\n",
        "    pthread_attr_init(&attr); // inicializa attr com valores padroes\n",
        "\n",
        "\n",
        "    pthread_create(&thread1,&attr,funcaof,argv[1]); // cria a thread\n",
        "\n",
        "\n",
        "    pthread_t thread2; //cria variável do tipo thread\n",
        "    pthread_create(&thread2, &attr,funcaok,argv[1]);\n",
        "\n",
        "\n",
        "    pthread_join(thread1,NULL);\n",
        "    pthread_join(thread2,NULL);\n",
        "\n",
        "\n",
        "    printf(\"f = %d\\n\",f);\n",
        "\n",
        "    printf(\"eh primo?\");\n",
        "    if(k==1)\n",
        "      printf(\"%d é primo\",f);\n",
        "    else\n",
        "      printf(\"%d não é primo\",f);\n",
        "\n",
        "}\n",
        "\n",
        "\n",
        "void *funcaof(void *param) {\n",
        "    int i, ultimo = atoi(param);\n",
        "    f = 0;\n",
        "\n",
        "\n",
        "  if (ultimo > 0)\n",
        "    for (i = 1; i <= ultimo; i++)\n",
        "      f += i;\n",
        "  pthread_exit(0);\n",
        "}\n",
        "\n",
        "\n",
        "void *funcaok(void *param){\n",
        "  int num = atoi(param);\n",
        "  k = verificaPrimo(num);\n",
        "\n",
        "\n",
        "}\n",
        "\n",
        "\n",
        "bool verificaPrimo(int a){\n",
        "  if(a < 2 ){\n",
        "    return true;\n",
        "  }\n",
        "  else if(a==2){\n",
        "    return true;\n",
        "  }\n",
        "  else if(a%2==0){\n",
        "    return false;\n",
        "  }\n",
        "  else{\n",
        "    for(int inicio = 3; inicio<= a/2;inicio++){\n",
        "      if(a/inicio==0)\n",
        "        return false;\n",
        "    }\n",
        "    return true;\n",
        "\n",
        "  }\n",
        "}\n"
      ]
    },
    {
      "cell_type": "markdown",
      "source": [
        "Para executar os comandos presentes no shell, utilizamos ```!``` antes do comando almejado.\n",
        "A seguir, chamamos o gcc para compilar o código, gerando como saída o executável ```criandothreadsbin```.  Em seguida, usamos ``` ./criandothreadsbin 10 ``` para executação do programa."
      ],
      "metadata": {
        "id": "FYQNh630VPn1"
      }
    },
    {
      "cell_type": "code",
      "source": [
        "!gcc criandothreads.c -o criandothreadsbin"
      ],
      "metadata": {
        "id": "SQWrx1LrVP3e"
      },
      "execution_count": 2,
      "outputs": []
    },
    {
      "cell_type": "code",
      "source": [
        "! ./criandothreadsbin 17"
      ],
      "metadata": {
        "id": "MPCbfwQNVhlZ",
        "outputId": "cb622d01-ced0-4657-e160-d5059d4c159e",
        "colab": {
          "base_uri": "https://localhost:8080/"
        }
      },
      "execution_count": 3,
      "outputs": [
        {
          "output_type": "stream",
          "name": "stdout",
          "text": [
            "f = 153\n",
            "eh primo?153 é primo"
          ]
        }
      ]
    },
    {
      "cell_type": "markdown",
      "source": [
        "### Questão 01. Mude o valor na chamada ``` criandothreadsbin ``` para ``` 20 ```. Qual foi o novo valor devolvido para ```f```?\n",
        "\n"
      ],
      "metadata": {
        "id": "aJSKahdtzSI7"
      }
    },
    {
      "cell_type": "markdown",
      "source": [
        "1- 210\n"
      ],
      "metadata": {
        "id": "lFS1lUAtoMN0"
      }
    },
    {
      "cell_type": "markdown",
      "source": [
        "### Questão 02. O que faz a função ```funcaof```?"
      ],
      "metadata": {
        "id": "49_LLHeOWZKa"
      }
    },
    {
      "cell_type": "markdown",
      "source": [
        "2- A função soma de 1 até o número informado e substitui o próprio valor pelo resultado da soma.\n",
        "Com entrada 5 por exemplo temos:\n",
        "0+1 -> 1+2 -> 3+3 -> 6+4 -> 10+5"
      ],
      "metadata": {
        "id": "pCSxQat_oPgM"
      }
    },
    {
      "cell_type": "markdown",
      "source": [
        "###Questão 03. Crie uma nova funcao chamada ```funcaok``` e a variável global booleana ```k```. Esta funcao deverá executar em uma nova thread, denominada, ```thread2```.  ```funcaok``` apresenta mesma assinatura de ```funcaof```. No entanto, ```funcaok``` avalia se o valor passado como parâmetro é primo. Caso seja primo, ``` k = true ```, caso contrário, ``` k = false ```. Informe no método main (através de print) se o valor associado a k após execução de ```funcaok``` é ``` true ``` ou ``` false ```."
      ],
      "metadata": {
        "id": "Jy4-rrShzqck"
      }
    },
    {
      "cell_type": "markdown",
      "source": [
        "###Questão 04. Na caixa de código abaixo, execute o comando ```!unimize```, necessário para realização da Questões 05  e 06."
      ],
      "metadata": {
        "id": "bBAjvk2Z330U"
      }
    },
    {
      "cell_type": "code",
      "source": [
        "! unminimize"
      ],
      "metadata": {
        "id": "5fE-Om9Y3_VF",
        "outputId": "8593b9a9-2724-4fa3-842c-61daec82970e",
        "colab": {
          "base_uri": "https://localhost:8080/"
        }
      },
      "execution_count": null,
      "outputs": [
        {
          "output_type": "stream",
          "name": "stdout",
          "text": [
            "This system has been minimized by removing packages and content that are\n",
            "not required on a system that users do not log into.\n",
            "\n",
            "This script restores content and packages that are found on a default\n",
            "Ubuntu server system in order to make this system more suitable for\n",
            "interactive use.\n",
            "\n",
            "Reinstallation of packages may fail due to changes to the system\n",
            "configuration, the presence of third-party packages, or for other\n",
            "reasons.\n",
            "\n",
            "This operation may take some time.\n",
            "\n",
            "Would you like to continue? [y/N] y\n",
            "\n"
          ]
        }
      ]
    },
    {
      "cell_type": "markdown",
      "source": [
        "###Questão 05 - Na caixa de código a seguir, utilize o comando ``` man ```  para ```pthread_create``` e informe em que casos uma nova thread é finalizada."
      ],
      "metadata": {
        "id": "QtQI9Jq3A45T"
      }
    },
    {
      "cell_type": "markdown",
      "source": [],
      "metadata": {
        "id": "DspWNFiCiCkD"
      }
    },
    {
      "cell_type": "code",
      "source": [
        "man pthread_create"
      ],
      "metadata": {
        "id": "heiXYUWW5HCl"
      },
      "execution_count": 152,
      "outputs": []
    },
    {
      "cell_type": "markdown",
      "source": [
        "5- A função basicamente criará uma nova thread."
      ],
      "metadata": {
        "id": "cbjRESZx4mIn"
      }
    },
    {
      "cell_type": "markdown",
      "source": [
        "###Questão 06. Investigue em https://docs.oracle.com/cd/E19455-01/806-5257/attrib-34610/index.html os valores associados por padrão pelo método ```pthread_attr_init``` a varáveis do tipo ```pthread_attr_t```. Apresente o significado de cada um deles."
      ],
      "metadata": {
        "id": "aTDMPCPW36Fi"
      }
    },
    {
      "cell_type": "markdown",
      "source": [
        "6- Os valores associados são:\n",
        "\n",
        "PTHREAD_SCOPE_PROCESSO: A thread criada não possui vínculo.\n",
        "\n",
        "PTHREAD_CREATE_JOINABLE: Após o término da thread, ela e a saída são preservados.\n",
        "\n",
        "NULL: A nova thread tem seu endereço de pilha alocado pelo sistema.\n",
        "\n",
        "1 megabyte: O sistema define como novo segmento de tamanho da pilha.\n",
        "\n",
        "Vazio: A nova thread herda a prioridade do thread pai.\n",
        "\n",
        "PTHREAD_INHERIT_SCHED: A nova thread herda a prioridade de agendamento da thread pai.\n",
        "\n",
        "SCHED_OTHER: Utilizada a prioridade de agendamento fixa, as thread serão executadas até serem antecipadas por uma thread de prioridade mais alta ou até bloquearem.\n"
      ],
      "metadata": {
        "id": "dtPeQ7ycoc6d"
      }
    },
    {
      "cell_type": "markdown",
      "source": [
        "###Questão 07. Na caixa de código a seguir, utilize o comando ``` man ``` para ``` pthread_join ```  e informe para que serve este comando."
      ],
      "metadata": {
        "id": "ZfExT7RgKyvx"
      }
    },
    {
      "cell_type": "code",
      "source": [
        "man pthread_join"
      ],
      "metadata": {
        "id": "Kqc5kMAVLB9v"
      },
      "execution_count": 151,
      "outputs": []
    },
    {
      "cell_type": "markdown",
      "source": [
        "7- Essa thread espera que uma outra thread em específico termine primeiro, normalmente a espera é para que seus filhos executem."
      ],
      "metadata": {
        "id": "nAAMJf5Z4N75"
      }
    },
    {
      "cell_type": "markdown",
      "source": [
        "## 3.Threads em modo Kernel\n",
        "\n",
        "1.   Item da lista\n",
        "2.   Item da lista\n",
        "\n",
        "\n",
        "- No linux, threads são tasks\n",
        "  - Tanto threads como processos são tarefas. No entanto, thread é uma tarefa que compartilha recursos.\n",
        "  - A criação de threads é feita através da função clone():\n",
        "  ```\n",
        "    int clone(int (*fn)(void *), void *stack, int flags, void *arg)\n",
        "  ```\n",
        "  \n",
        "    onde:\n",
        "    - fn:ponteiro para função\n",
        "    - stack: ponteiro para o topo da stack\n",
        "    - flags: parâmetros que sinalizam o tipo de thread a ser gerado.\n",
        "    - arg: parâmetro da função\n",
        "\n",
        "- A seguir, temos código que apresenta exemplo de uso de clone. Execute-o para gerar o arquivo ```clone.c```.\n"
      ],
      "metadata": {
        "id": "SA9hPMZc3sKM"
      }
    },
    {
      "cell_type": "code",
      "source": [
        "%%writefile clone.c\n",
        "#define _GNU_SOURCE\n",
        "#include <sched.h>\n",
        "#include <stdio.h>\n",
        "#include <stdlib.h>\n",
        "#include <sys/wait.h>\n",
        "const int STACK_SIZE=65536; // Tamanho da Stack (65536 bytes ou 64 KiB).\n",
        "\n",
        "\n",
        "// Codigo da Thread\n",
        "int thread_code(void *arg){\n",
        "   int i = 0;\n",
        "   int n = atoi(arg);\n",
        "   printf(\"Executando na tarefa filha %d \\n\", n);\n",
        "   for ( i = 1 ; i <= 10 ; i++ )\n",
        "      printf(\"\\t thread(%d) = %d * %d = %d\\n\", n, n, i, (n*i));\n",
        "   printf(\"\\n\");\n",
        "   return 0;\n",
        "}\n",
        "\n",
        "void main(int argc, char *argv[]){\n",
        "  // Ponteiro para a base e topo da Stack\n",
        "   void* stack_base[argc-1];\n",
        "   void* stack_top[argc-1];\n",
        "\n",
        "   // ID de cada thread\n",
        "   int  pid[argc-1];\n",
        "\n",
        "   for (int j = 1; j < argc; j++){\n",
        "     // Alocacao das Stacks de cada thread\n",
        "   \t stack_base[j-1] = malloc(STACK_SIZE);\n",
        "     if(stack_base[j-1]==NULL) {\n",
        "        perror(\"malloc\");\n",
        "        exit(1);\n",
        "     }\n",
        "         // Topo da stack = base + tamanho da stack\n",
        "     stack_top[j-1] = stack_base[j-1] + STACK_SIZE;\n",
        "   }\n",
        "\n",
        "   printf (\"Foi alocado espaco para (%d) threads\\n\", argc-1);\n",
        "   for (int j = 1; j < argc; j++){\n",
        "        // Criando Threads\n",
        "        pid[j-1] = clone(thread_code, stack_top[j-1], CLONE_VM | CLONE_FS | CLONE_FILES | CLONE_SIGHAND, argv[j]);\n",
        "        if (pid[j-1] < 0) {\n",
        "            printf(\"Erro: Nao foi possivel criar a thread.\\n\");\n",
        "            exit(EXIT_FAILURE);\n",
        "        }\n",
        "   }\n",
        "\n",
        "   // Aguarda término das threads\n",
        "   for (int j = 1; j < argc; j ++)\n",
        "      wait(&pid[j-1]);\n",
        "\n",
        "   // Libera stack de cada thread\n",
        "   for (int j = 1; j < argc; j++){\n",
        "     free(stack_base[j-1]);\n",
        "   }\n",
        "   printf(\"Threads filhas finalizadas.\\n\");\n",
        "}\n"
      ],
      "metadata": {
        "id": "_fcRwhBpDoWH",
        "outputId": "896b69f9-5276-4f0a-bf2d-f3fd4ae239e5",
        "colab": {
          "base_uri": "https://localhost:8080/"
        }
      },
      "execution_count": 5,
      "outputs": [
        {
          "output_type": "stream",
          "name": "stdout",
          "text": [
            "Writing clone.c\n"
          ]
        }
      ]
    },
    {
      "cell_type": "markdown",
      "source": [
        "Para executar os comandos presentes no shell, utilizamos ```!``` antes do comando almejado.\n",
        "A seguir, chamamos o gcc para compilar o código, gerando como saída o executável ```clonebin```.  Em seguida, usamos ```./clonebin 1 2``` para executação do programa."
      ],
      "metadata": {
        "id": "9ETCrOXXE-36"
      }
    },
    {
      "cell_type": "code",
      "source": [
        "!gcc clone.c -o clonebin"
      ],
      "metadata": {
        "id": "8lbUN0OYFNXN"
      },
      "execution_count": 6,
      "outputs": []
    },
    {
      "cell_type": "code",
      "source": [
        "! ./clonebin 5 6 7 8"
      ],
      "metadata": {
        "id": "QapV7-e7FXFQ"
      },
      "execution_count": null,
      "outputs": []
    },
    {
      "cell_type": "markdown",
      "source": [
        "###Questão 08. O que foi impresso ao final da execução de ``` ./clonebin 1 2 ``` ? Na linha de código abaixo faça uma nova execução, chamando o programa da seguinte forma: ``` ./clonebin 5 6 7 8 ```. O que foi impresso?"
      ],
      "metadata": {
        "id": "CgucvwKdFrVI"
      }
    },
    {
      "cell_type": "code",
      "source": [
        "! ./clonebin 5 6 7 8"
      ],
      "metadata": {
        "id": "cTjq2s9SGAZY"
      },
      "execution_count": null,
      "outputs": []
    },
    {
      "cell_type": "markdown",
      "source": [
        "8- Apareceu a tabuada dos números 1 e 2. Com a mudança para 5 6 7 8, foi impresso a tabuada dos 4 números por meio das threads"
      ],
      "metadata": {
        "id": "i2b_nC8sozc_"
      }
    },
    {
      "cell_type": "markdown",
      "source": [
        "### Questão 09. Execute por mais vezes a chamada ``` ./clonebin 5 6 7 8 ```. As respostas de cada thread sempre são impressas na mesma ordem ou há mistura. ? Caso ocorra mistura, qual o motivo que leva a essa mistura?"
      ],
      "metadata": {
        "id": "epAgsetaGB7u"
      }
    },
    {
      "cell_type": "code",
      "source": [
        "! ./clonebin 5 6 7 8"
      ],
      "metadata": {
        "id": "Th0chjebo8f7"
      },
      "execution_count": null,
      "outputs": []
    },
    {
      "cell_type": "markdown",
      "source": [
        "9- As respostas mudam a cada execução. Isso ocorre no uso de threads, os processos estão executando de forma simultânea e estão  misturando as respostas por uma não esperar a outra finalizar."
      ],
      "metadata": {
        "id": "fbZJ9k28o4Gz"
      }
    },
    {
      "cell_type": "markdown",
      "source": [
        "###Questão 10. Explique o que está sendo feito na função ``` int thread_code(void *arg)``` (linhas 11-19).\n"
      ],
      "metadata": {
        "id": "65zLwJZCHiHY"
      }
    },
    {
      "cell_type": "markdown",
      "source": [
        "10- É essa função que executará os cálculos e prints do argumento enviado a ela que por sua vez, é executada por meio de threads, causando a mistura de prints como saída."
      ],
      "metadata": {
        "id": "JyTFBofcqSJc"
      }
    },
    {
      "cell_type": "markdown",
      "source": [
        "###Questão 11. Na caixa de código a seguir, execute o comando ``` man ``` para a função ``` clone ```. Extraia do manual de ``` clone ```:\n",
        "1. Para que serve a função clone?\n",
        "2. Para que serve as constantes ``` CLONE_VM ```, ``` CLONE_FS ```, ``` CLONE_FILES ```, ``` CLONE_SIGHAND``` usadas pelo código na linha 43."
      ],
      "metadata": {
        "id": "NtHYt_ZUH4Cw"
      }
    },
    {
      "cell_type": "code",
      "source": [
        "man clone\n"
      ],
      "metadata": {
        "id": "7Y3GVDcFIkjt"
      },
      "execution_count": 150,
      "outputs": []
    },
    {
      "cell_type": "markdown",
      "source": [
        "11- Clone é uma chamada que cria um novo processo filho, semelhante ao fork.\n",
        "\n",
        "CLONE_VM: Quando o processo for criado ele deverá compartilhar o mesmo endereço virtual do processo pai.\n",
        "\n",
        "CLONE_FS: O novo processo deverá compartilhar o mesmo sistema de diretório do processo pai.\n",
        "\n",
        "CLONE_FILES:  O novo processo deverá compartilhar as mesmas entradas de arquivos do processo pai.\n",
        "\n",
        "CLONE_SIGHAND: Irá compartilhar a mesma tabela de manipuladores de sinais com o processo pai.\n",
        "\n"
      ],
      "metadata": {
        "id": "S37wLg0L2kiG"
      }
    },
    {
      "cell_type": "markdown",
      "source": [
        "###Questão 12. Para que serve a região de memória denominada stack? Threads possuem stack. Elas são individuais ou compartilhadas, justifique."
      ],
      "metadata": {
        "id": "ptG4ygVtJLn6"
      }
    },
    {
      "cell_type": "markdown",
      "source": [
        "12- Cada thread terá o seu stack, em cada uma delas terá a sua sequência de comandos a serem executados que por sua vez, podem ser executados em paralelo com outros, elas não dependem de outros programas."
      ],
      "metadata": {
        "id": "4FWUdATHq74s"
      }
    },
    {
      "cell_type": "markdown",
      "source": [
        "###Questão 13. Em clone.c qual o tamanho da stack adotada por cada thread? Explique o que acontece nas linhas [22-38] do código."
      ],
      "metadata": {
        "id": "RQRKkoyMJ9IC"
      }
    },
    {
      "cell_type": "markdown",
      "source": [
        "13- Cada thread terá o tamanho de 64 Kb. É criado o ponteiro que representará a base e topo do stack das threads. Após criado o ID cada thread precisa ter o seu stack alocado que por meio do for finalizado na linha 38 é feito."
      ],
      "metadata": {
        "id": "l3XbI7JiwJCc"
      }
    },
    {
      "cell_type": "markdown",
      "source": [
        "## 4.Criando processos filhos\n",
        "- Um processo é um programa em execução.\n",
        "- A criação de processos no Linux, pode ser feita através do método fork(), presente em unistd.h\n",
        "  - ``` pid_t fork(void); ```\n",
        "- fork cria um novo processo, através da duplicação do processo que gerou a chamada. O novo processo é denominado ﬁlho. O antigo,pai.\n",
        "- Filho e pai executam em espaços de memória diferentes, porém apresentam o mesmo código.\n",
        "- A seguir, apresentamos um exemplo de código ilustrando seu uso. Execute-o para gerar o arquivo ``` exemplo01.c ```"
      ],
      "metadata": {
        "id": "FkSDOteLSIpN"
      }
    },
    {
      "cell_type": "code",
      "source": [
        "%%writefile exemplo01.c\n",
        "#include <stdio.h>\n",
        "#include <sys/types.h>\n",
        "#include <unistd.h>\n",
        "#include <wait.h>\n",
        "\n",
        "int valor = 5;\n",
        "\n",
        "int main(){\n",
        "\tpid_t pid;\n",
        "\n",
        "\tpid = fork();\n",
        "\n",
        "\tif (pid == 0) {\n",
        "\t\tvalor += 15;\n",
        "    printf (\"Processo filho: valor = %d\\n\",valor);\n",
        "\t\treturn 0;\n",
        "\t}\n",
        "\telse if (pid > 0) {\n",
        "\t\twait(NULL);\n",
        "\t\tprintf (\"Processo pai: valor = %d\\n\",valor); /* LINE A */\n",
        "\t\treturn 0;\n",
        "\t}\n",
        "}"
      ],
      "metadata": {
        "id": "fQQc-YeKTALu",
        "colab": {
          "base_uri": "https://localhost:8080/"
        },
        "outputId": "28e59cba-65dd-41bc-ab7a-fab6b7c141fa"
      },
      "execution_count": 11,
      "outputs": [
        {
          "output_type": "stream",
          "name": "stdout",
          "text": [
            "Overwriting exemplo01.c\n"
          ]
        }
      ]
    },
    {
      "cell_type": "markdown",
      "source": [
        "Para executar os comandos presentes no shell, utilizamos ```!``` antes do comando almejado.\n",
        "A seguir, chamamos o gcc para compilar o código, gerando como saída o executável ```clonebin```.  Em seguida, usamos ```./clonebin 1 2``` para executação do programa."
      ],
      "metadata": {
        "id": "2yAeoGTpTmLs"
      }
    },
    {
      "cell_type": "code",
      "source": [
        "!gcc exemplo01.c -o exemplo01bin"
      ],
      "metadata": {
        "id": "bgCwJ7B_T6B8"
      },
      "execution_count": 12,
      "outputs": []
    },
    {
      "cell_type": "code",
      "source": [
        "!./exemplo01bin"
      ],
      "metadata": {
        "id": "UxVarVvVT5mi",
        "colab": {
          "base_uri": "https://localhost:8080/"
        },
        "outputId": "4e004f29-a5b4-4ca0-cad4-a88cb19745aa"
      },
      "execution_count": 15,
      "outputs": [
        {
          "output_type": "stream",
          "name": "stdout",
          "text": [
            "Processo filho: valor = 20\n",
            "Processo pai: valor = 5\n"
          ]
        }
      ]
    },
    {
      "cell_type": "markdown",
      "source": [
        "##Questão 14. Porque o processo pai e o processo filho apresentam valores diferentes para a variável global valor?"
      ],
      "metadata": {
        "id": "dUTwgR3RVPwh"
      }
    },
    {
      "cell_type": "markdown",
      "source": [
        "14- o processo filho possui valor =0 no pid, ele entra justamente no if que possui a soma de valor+15 e o processo pai tem valor maior que 0, pois agora possui um filho após a execução, muito provavelmente o valor é igual a 1."
      ],
      "metadata": {
        "id": "B1goE-C1wMB8"
      }
    },
    {
      "cell_type": "markdown",
      "source": [
        "###Questão 15. Na caixa de código abaixo, use o comando ``` man ``` para consultar a função ``` fork ```. Qual o valor que ``` fork ``` devolve para o processo pai e para o processo filho?"
      ],
      "metadata": {
        "id": "r9YQSQCxVwyz"
      }
    },
    {
      "cell_type": "code",
      "source": [
        "!unminimize"
      ],
      "metadata": {
        "id": "sJSTDMz71onu"
      },
      "execution_count": null,
      "outputs": []
    },
    {
      "cell_type": "code",
      "source": [
        "man fork"
      ],
      "metadata": {
        "id": "jw6_AGNEWmjh"
      },
      "execution_count": 149,
      "outputs": []
    },
    {
      "cell_type": "markdown",
      "source": [
        "15- O valor retornado quando a execução é um sucesso é igual a 0 para o filho e o pid do filho é retornado para o pai."
      ],
      "metadata": {
        "id": "UnVzhYWi18Nl"
      }
    },
    {
      "cell_type": "markdown",
      "source": [
        "###Questão 16. ``` getpid ``` é uma função que devolve o ``` process id ``` (identificador único) do processo em execução. Baseado nessa informação, execute as seguintes caixas de código para geração do arquivo ``` exemplo02.c ```, compilação e execução."
      ],
      "metadata": {
        "id": "Dn2UCjPcWziZ"
      }
    },
    {
      "cell_type": "code",
      "source": [
        "%%writefile exemplo02.c\n",
        "#include <stdio.h>\n",
        "#include <unistd.h>\n",
        "\n",
        "int main()\n",
        "{\n",
        "\n",
        "\tprintf(\"%d\\n\",getpid());\n",
        "\tfork();\n",
        "\tprintf(\"%d\\n\",getpid());\n",
        "\n",
        "\n",
        "\tfork();\n",
        "\tprintf(\"%d\\n\",getpid());\n",
        "\n",
        "\tfork();\n",
        "\tprintf(\"%d\\n\",getpid());\n",
        "\n",
        "\treturn 0;\n",
        "}"
      ],
      "metadata": {
        "id": "GGopYPyWXtNH",
        "colab": {
          "base_uri": "https://localhost:8080/"
        },
        "outputId": "39eb9e65-87fd-46c3-ba4f-68fc87ddbfec"
      },
      "execution_count": 59,
      "outputs": [
        {
          "output_type": "stream",
          "name": "stdout",
          "text": [
            "Overwriting exemplo02.c\n"
          ]
        }
      ]
    },
    {
      "cell_type": "code",
      "source": [
        "!gcc exemplo02.c -o exemplo02bin"
      ],
      "metadata": {
        "id": "iMGgBpcAXtiz"
      },
      "execution_count": 60,
      "outputs": []
    },
    {
      "cell_type": "code",
      "source": [
        "!./exemplo02bin"
      ],
      "metadata": {
        "id": "ceKiIwVFXuBg"
      },
      "execution_count": null,
      "outputs": []
    },
    {
      "cell_type": "markdown",
      "source": [
        "###Questão 17. Baseado na execução da Questão 16, o que significam os números que foram impressos? Quantos números diferentes temos após a execução do código? Quantos processos foram criados durante a execução desse código?"
      ],
      "metadata": {
        "id": "OInYBGRzYsUL"
      }
    },
    {
      "cell_type": "markdown",
      "source": [
        "\n",
        "17- Os números são o ID de cada processo. São 8 números diferentes. 15 processos foram criados com a utilização do fork\n"
      ],
      "metadata": {
        "id": "9JSPwnR9yQ6l"
      }
    },
    {
      "cell_type": "markdown",
      "source": [
        "###Questão 18. É possível associar uma fórmula que informe a quantidade de processos criados a depender da quantidade de forks? Considere ``` n```, como sendo a quantidade de forks e ``` nps ```, como sendo a quantidade de processos criados."
      ],
      "metadata": {
        "id": "_XyiZuQjZhSp"
      }
    },
    {
      "cell_type": "markdown",
      "source": [
        "18- nps = n^2-1"
      ],
      "metadata": {
        "id": "ezL_8FCZyVR2"
      }
    },
    {
      "cell_type": "markdown",
      "source": [
        "###Questão 19. Use as caixas de código a seguir para modificar, compilar e executar ``` 10processos.c ```. Ao final da execução de ``` 10processos.c ```, devem ser gerados 10 processos."
      ],
      "metadata": {
        "id": "PxSQ0pFpaO-J"
      }
    },
    {
      "cell_type": "code",
      "source": [
        "%%writefile 10processos.c\n",
        "#include <stdio.h>\n",
        "#include <unistd.h>\n",
        "\n",
        "int main()\n",
        "{\n",
        "\tpid_t pid;\n",
        "\n",
        "\tpid = fork();\n",
        "\tfork();\n",
        "\tif(pid>1)\n",
        "\t\tfork();\n",
        "\tif(pid>2)\n",
        "\t\tfork();\n",
        "\tprintf(\"%d\\n\",getpid());\n",
        "\n",
        "\treturn 0;\n",
        "}"
      ],
      "metadata": {
        "id": "slb5tuXbacmB",
        "colab": {
          "base_uri": "https://localhost:8080/"
        },
        "outputId": "cadd6731-8d20-4af6-dfa4-9d3d76d212dc"
      },
      "execution_count": 144,
      "outputs": [
        {
          "output_type": "stream",
          "name": "stdout",
          "text": [
            "Overwriting 10processos.c\n"
          ]
        }
      ]
    },
    {
      "cell_type": "code",
      "source": [
        "!gcc 10processos.c -o 10processosbin"
      ],
      "metadata": {
        "id": "pg8vO4hjadTb"
      },
      "execution_count": 145,
      "outputs": []
    },
    {
      "cell_type": "code",
      "source": [
        "!./10processosbin"
      ],
      "metadata": {
        "id": "zM_q0uyladH9",
        "colab": {
          "base_uri": "https://localhost:8080/"
        },
        "outputId": "b7e413bf-a906-4463-f4f7-dacdf97695f3"
      },
      "execution_count": 146,
      "outputs": [
        {
          "output_type": "stream",
          "name": "stdout",
          "text": [
            "14656\n",
            "14657\n",
            "14659\n",
            "14662\n",
            "14660\n",
            "14665\n",
            "14658\n",
            "14661\n",
            "14663\n",
            "14664\n"
          ]
        }
      ]
    }
  ]
}